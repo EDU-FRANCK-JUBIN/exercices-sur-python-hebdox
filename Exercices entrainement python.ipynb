{
 "cells": [
  {
   "cell_type": "markdown",
   "metadata": {},
   "source": [
    "## Calcul volume cone"
   ]
  },
  {
   "cell_type": "code",
   "execution_count": 19,
   "metadata": {},
   "outputs": [
    {
     "data": {
      "text/plain": [
       "8.377580409572781"
      ]
     },
     "execution_count": 19,
     "metadata": {},
     "output_type": "execute_result"
    }
   ],
   "source": [
    "from math import *\n",
    "\n",
    "# print (math.pi)\n",
    "\n",
    "def volumeCone(height, radius):\n",
    "    return math.pi*radius*radius*height/3\n",
    "\n",
    "volumeCone(2,2)"
   ]
  },
  {
   "cell_type": "markdown",
   "metadata": {},
   "source": [
    "## tous les diviseurs d'un nombre"
   ]
  },
  {
   "cell_type": "code",
   "execution_count": 5,
   "metadata": {},
   "outputs": [
    {
     "data": {
      "text/plain": [
       "[1, 2, 4, 5, 10, 20, 25, 50]"
      ]
     },
     "execution_count": 5,
     "metadata": {},
     "output_type": "execute_result"
    }
   ],
   "source": [
    "# def divisors(n):\n",
    "#     ret = []\n",
    "#     for i in divisorGen(100):\n",
    "#         ret.push(i)\n",
    "#         print (i)\n",
    "#     return ret\n",
    "\n",
    "def divisors(n):\n",
    "    ret = []\n",
    "    for i in range(1,n):\n",
    "        if n%i == 0: ret.append(i)\n",
    "    return ret\n",
    "\n",
    "\n",
    "divisors(100)"
   ]
  },
  {
   "cell_type": "markdown",
   "metadata": {},
   "source": [
    "## Approximation de e"
   ]
  },
  {
   "cell_type": "code",
   "execution_count": 30,
   "metadata": {},
   "outputs": [
    {
     "data": {
      "text/plain": [
       "2.718281828459045"
      ]
     },
     "execution_count": 30,
     "metadata": {},
     "output_type": "execute_result"
    }
   ],
   "source": [
    "def approx_e(n:int, val=0):\n",
    "    if n==-1: return val\n",
    "    else: val += 1/factorial(n)\n",
    "    \n",
    "    return approx_e(n-1, val)\n",
    "\n",
    "approx_e(50)\n"
   ]
  },
  {
   "cell_type": "markdown",
   "metadata": {},
   "source": [
    "## DNA testing\n",
    "\n",
    "## % de \"ca\" dans DNA"
   ]
  },
  {
   "cell_type": "code",
   "execution_count": 60,
   "metadata": {},
   "outputs": [
    {
     "data": {
      "text/plain": [
       "'il y a 6.061% de \"ca\" dans atgccgtatgcatgccgtatgcatgccgtatgc'"
      ]
     },
     "execution_count": 60,
     "metadata": {},
     "output_type": "execute_result"
    }
   ],
   "source": [
    "def dnaCkeck(l):\n",
    "    for i in l:\n",
    "        if i !=\"a\" and i !=\"t\" and i !=\"g\" and i !=\"c\" :\n",
    "            print (False)\n",
    "            return False\n",
    "        \n",
    "    print (True)\n",
    "    return True\n",
    "\n",
    "list = \"atgccgtatgcatgccgtatgcatgccgtatgc\"\n",
    "bad_list = \"atgccgtatgcatgccgtatgcatgccgtatDc\"\n",
    "\n",
    "# dnaCkeck(list)\n",
    "# dnaCkeck(bad_list)\n",
    "\n",
    "def saisie():\n",
    "    dna = input()\n",
    "    return dnaCkeck(dna)\n",
    "\n",
    "\n",
    "# saisie()\n",
    "\n",
    "def proportion(l):\n",
    "    lenght = len(l);\n",
    "    count = 0\n",
    "    skip = False\n",
    "    \n",
    "        \n",
    "    for i in range (lenght) :\n",
    "        try:\n",
    "            # jump a of ca\n",
    "            if skip : continue\n",
    "\n",
    "            if l[i] == \"c\" and l[i+1] == \"a\":\n",
    "                count += 2\n",
    "                skip = True\n",
    "                continue\n",
    "        except IndexError:\n",
    "            pass\n",
    "        continue\n",
    "            \n",
    "    return (\"il y a \"+str(format(count/lenght*100, '.3f'))+\"% de \\\"ca\\\" dans \"+ l)\n",
    "            \n",
    "proportion(list)\n",
    "\n"
   ]
  },
  {
   "cell_type": "markdown",
   "metadata": {},
   "source": [
    "## chiffres romains"
   ]
  },
  {
   "cell_type": "code",
   "execution_count": 67,
   "metadata": {},
   "outputs": [
    {
     "data": {
      "text/plain": [
       "'XCIX'"
      ]
     },
     "execution_count": 67,
     "metadata": {},
     "output_type": "execute_result"
    }
   ],
   "source": [
    "\n",
    "def romanNumbers(n, ret =\"\"):\n",
    "    \n",
    "    #     plus de 1000 (M)\n",
    "    if n>=1000: return romanNumbers(n-1000, ret+\"M\")\n",
    "\n",
    "    #  plus de 900 (CM)\n",
    "    if n>=900: return romanNumbers(n-900, ret+\"CM\")\n",
    "\n",
    "    #  plus de 500 (D)\n",
    "    if n>=500: return romanNumbers(n-500, ret+\"D\")\n",
    "\n",
    "    #     plus de 400 (CD)\n",
    "    if n>=400: return romanNumbers(n-400, ret+\"CD\")\n",
    "\n",
    "    #     plus de 100 (C)\n",
    "    if n>=100: return romanNumbers(n-100, ret+\"C\")\n",
    "\n",
    "    # plus de 90 (XC)\n",
    "    if n>=90: return romanNumbers(n-90, ret+\"XC\")\n",
    "\n",
    "    # plus de 50 (L)\n",
    "    if n>=50: return romanNumbers(n-50, ret+\"L\")\n",
    "\n",
    "    # plus de 40 (XL)\n",
    "    if n>=40: return romanNumbers(n-40, ret+\"XL\")\n",
    "\n",
    "    # plus de 10 (X)\n",
    "    if n>=10: return romanNumbers(n-10, ret+\"X\")\n",
    "\n",
    "    # plus de 9 (X)\n",
    "    if n>=9: return romanNumbers(n-9, ret+\"IX\")\n",
    "\n",
    "    # plus de 8 (X)\n",
    "    if n>=8: return romanNumbers(n-8, ret+\"VIII\")\n",
    "\n",
    "    # plus de 7 (X)\n",
    "    if n>=7: return romanNumbers(n-7, ret+\"XII\")\n",
    "\n",
    "    # plus de 6 (X)\n",
    "    if n>=6: return romanNumbers(n-6, ret+\"XI\")\n",
    "\n",
    "    # plus de 5 (X)\n",
    "    if n>=5: return romanNumbers(n-5, ret+\"V\")\n",
    "\n",
    "    # plus de 4 (X)\n",
    "    if n>=4: return romanNumbers(n-4, ret+\"IV\")\n",
    "\n",
    "    # plus de 3 (X)\n",
    "    if n>=3: return romanNumbers(n-3, ret+\"III\")\n",
    "\n",
    "    # plus de 2 (X)\n",
    "    if n>=2: return romanNumbers(n-2, ret+\"II\")\n",
    "\n",
    "    # plus de 10 (X)\n",
    "    if n>=1: return romanNumbers(n-1, ret+\"I\")\n",
    "\n",
    "    return ret\n",
    "\n",
    "romanNumbers(99)\n",
    "\n",
    "\n"
   ]
  },
  {
   "cell_type": "code",
   "execution_count": null,
   "metadata": {},
   "outputs": [],
   "source": []
  }
 ],
 "metadata": {
  "kernelspec": {
   "display_name": "Python 3",
   "language": "python",
   "name": "python3"
  },
  "language_info": {
   "codemirror_mode": {
    "name": "ipython",
    "version": 3
   },
   "file_extension": ".py",
   "mimetype": "text/x-python",
   "name": "python",
   "nbconvert_exporter": "python",
   "pygments_lexer": "ipython3",
   "version": "3.7.4"
  }
 },
 "nbformat": 4,
 "nbformat_minor": 2
}
